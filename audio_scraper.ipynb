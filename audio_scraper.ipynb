{
  "nbformat": 4,
  "nbformat_minor": 0,
  "metadata": {
    "colab": {
      "provenance": [],
      "collapsed_sections": [
        "veCWn2obiea9"
      ]
    },
    "kernelspec": {
      "name": "python3",
      "display_name": "Python 3"
    },
    "language_info": {
      "name": "python"
    }
  },
  "cells": [
    {
      "cell_type": "markdown",
      "source": [
        "# Kickstart Seed Project - Web Scraper for Audio Files\n"
      ],
      "metadata": {
        "id": "8S5jcMA26G5q"
      }
    },
    {
      "cell_type": "markdown",
      "source": [
        "## How to use this notebook\n",
        "\n",
        "I've set up this notebook to hopefully be as easy to follow as possible, and barring the file paths for saving extracted files, little else should need modification.\n",
        "\n",
        "Throughout this notebook, cells or lines that require customizing will be marked in `code blocks` in text cells above the code in question. Further documentation and explanation of the code itself is commented within each code block.\n",
        "\n",
        "As I wrote this notebook in Google Colab, I've begun the notebook with the extra step of mounting Google Drive to connect it to the notebook. This is unnecessary if you are running the notebook locally instead."
      ],
      "metadata": {
        "id": "tHL7OY55vsIl"
      }
    },
    {
      "cell_type": "code",
      "source": [
        "# run if mounting google drive\n",
        "from google.colab import drive\n",
        "\n",
        "drive.mount('/content/drive')"
      ],
      "metadata": {
        "id": "Qjgb-9DqMsxQ"
      },
      "execution_count": null,
      "outputs": []
    },
    {
      "cell_type": "code",
      "source": [
        "!pip install xlsxwriter"
      ],
      "metadata": {
        "id": "bZcJxn7rHD3f"
      },
      "execution_count": null,
      "outputs": []
    },
    {
      "cell_type": "code",
      "source": [
        "import pandas as pd\n",
        "import os\n",
        "import re\n",
        "import json"
      ],
      "metadata": {
        "id": "PPAha3aY2-Vp"
      },
      "execution_count": null,
      "outputs": []
    },
    {
      "cell_type": "markdown",
      "source": [
        "## Download youtube videos using Youtube_DL\n",
        "Documentation: https://github.com/yt-dlp/yt-dlp\n",
        "\n",
        "Using a fork of Youtube_dl, yt-dlp, to complete this section since Youtube_DL no longer works after a change in Youtube's metadata in 2021."
      ],
      "metadata": {
        "id": "I3L2oP7s2_zo"
      }
    },
    {
      "cell_type": "code",
      "source": [
        "!pip install yt_dlp"
      ],
      "metadata": {
        "id": "uVrS0Rsw1RpO"
      },
      "execution_count": null,
      "outputs": []
    },
    {
      "cell_type": "code",
      "source": [
        "from yt_dlp import YoutubeDL"
      ],
      "metadata": {
        "id": "7JOciszl0s6D"
      },
      "execution_count": null,
      "outputs": []
    },
    {
      "cell_type": "code",
      "source": [
        "# define a logger object to catch/print error messages\n",
        "class Logger(object):\n",
        "  def debug(self, msg):\n",
        "    pass\n",
        "\n",
        "  def warning(self, msg):\n",
        "    pass\n",
        "\n",
        "  def error(self, msg):\n",
        "    print(msg)\n",
        "\n",
        "# define a hook to keep track of download status\n",
        "def hook(d):\n",
        "    if d['status'] == 'finished':\n",
        "      print('Download complete, now converting...')"
      ],
      "metadata": {
        "id": "0ScmdwwwOsOz"
      },
      "execution_count": null,
      "outputs": []
    },
    {
      "cell_type": "markdown",
      "source": [
        "Three changes need to be made in this code block:\n",
        "1. Under `options`, there is a key for `'outtmpl'` which specifies the output template as defined [here](https://github.com/yt-dlp/yt-dlp?tab=readme-ov-file#output-template). It is currently set to automatically name extracted videos with the format \"ID.extension\" (where ID is the last part of the video's url and extension is mp4). Change the file path from everything before `/%(id)s.%(ext)s` to where you want the downloaded files to go. As a side note, you can change the `format` to `mp3/bestaudio/best` and it should just extract the mp3 file, but please refer to [yt-dlp's documentation](https://github.com/yt-dlp/yt-dlp) for details.\n",
        "2. For the `playlist` variable, simply paste the link to the Youtube playlist and the code will take care of the rest. Note that the library can only download 100 videos at once, so break the playlist up if you are extracting more than 100 videos (there is code to take care of this problem later on). In the event that there are more than 100 videos, when you are extracting the second playlist make sure to set `i` to `101` or the relevant number as this variable defines the streamlined rename of the videos for easier reference. The current convention is language_number.extension, for example, `en_1.mp4`.\n",
        "3. To change the language in the file name, it is in the `row.append(\"fr_\" + str(i)` line. Remember to change this when switching to a different language, or if a different file naming convention is established.\n",
        "\n",
        "Here are a few playlist links that I used for testing and for extracting our final dataset:\n",
        "* English test playlist: https://youtube.com/playlist?list=PLGeLaOAVnnkt8ZwHdTwto_eXtgERr4THd&si=sFsnQneXhatZLoNV\n",
        "* French test playlist: https://youtube.com/playlist?list=PLX6CyFIhOy_wk645GTARAkbIqhdqAms2o&si=PKORJWBYPBSLNlQ7\n",
        "* English masterlist: https://youtube.com/playlist?list=PLGeLaOAVnnkuuUfW3E-4RFDely0fvODDx&si=2PjQtZhfBUhuMz2t\n",
        "* Second half of English masterlist: https://youtube.com/playlist?list=PLGeLaOAVnnktvT5uxUZukZ4zeorWL-jUW&si=RdIqO7uAJANcTw2o\n",
        "* French masterlist: https://youtube.com/playlist?list=PLX6CyFIhOy_z7cO9hBB8RhSw42CRI5jTe&si=bcdricJWnnIl8gRo"
      ],
      "metadata": {
        "id": "nXyPaO8Qwart"
      }
    },
    {
      "cell_type": "code",
      "source": [
        "# specify options for downloaded files\n",
        "options = {\n",
        "    'format': 'mp4/bestvideo/best',\n",
        "    'logger': Logger(),\n",
        "    'progress_hooks': [hook],\n",
        "    'outtmpl': '/content/drive/My Drive/kickstarter_seed_project/fr_video/%(id)s.%(ext)s' # specifies output path and format\n",
        "}"
      ],
      "metadata": {
        "id": "VYiymF9A9_Wt"
      },
      "execution_count": null,
      "outputs": []
    },
    {
      "cell_type": "code",
      "source": [
        "# can be a list of links, in this case we are using a single playlist\n",
        "playlist = ['https://youtube.com/playlist?list=PLX6CyFIhOy_z7cO9hBB8RhSw42CRI5jTe&si=bcdricJWnnIl8gRo']"
      ],
      "metadata": {
        "id": "U_IgQzaJ-B9V"
      },
      "execution_count": null,
      "outputs": []
    },
    {
      "cell_type": "code",
      "source": [
        "# initialize variable to hold each row of metadata\n",
        "metadata = []\n",
        "i = 1\n",
        "\n",
        "for video in playlist:\n",
        "\n",
        "  with YoutubeDL(options) as ydl:\n",
        "    info_dict = ydl.extract_info(video)\n",
        "\n",
        "    for entry in info_dict['entries']:\n",
        "      row = []\n",
        "\n",
        "      # change this according to language: en, fr, cn\n",
        "      row.append(\"fr_\" + str(i))\n",
        "      row.append(entry['id'])\n",
        "      row.append(entry['uploader'])\n",
        "      row.append(entry['upload_date'])\n",
        "      row.append(entry['title'])\n",
        "      row.append(entry['duration'])\n",
        "      row.append(entry['view_count'])\n",
        "      row.append(entry['like_count'])\n",
        "      row.append(entry['comment_count'])\n",
        "      row.append(entry['original_url'])\n",
        "\n",
        "      metadata.append(row)\n",
        "      i += 1"
      ],
      "metadata": {
        "id": "dG6DRJnHLwhX"
      },
      "execution_count": null,
      "outputs": []
    },
    {
      "cell_type": "code",
      "source": [
        "# turn metadata into a dataframe\n",
        "headers = ['file_id', 'video_id', 'channel', 'date', 'title', 'duration_seconds', 'views', 'likes', 'comments', 'url']\n",
        "\n",
        "metadata_df = pd.DataFrame(metadata,columns=headers)"
      ],
      "metadata": {
        "id": "DkgoWY-4I14-"
      },
      "execution_count": null,
      "outputs": []
    },
    {
      "cell_type": "code",
      "source": [
        "metadata_df.head()"
      ],
      "metadata": {
        "colab": {
          "base_uri": "https://localhost:8080/",
          "height": 206
        },
        "id": "xHS3TMQyJDnF",
        "outputId": "03433288-8fff-4eed-e292-b2bb571da361"
      },
      "execution_count": null,
      "outputs": [
        {
          "output_type": "execute_result",
          "data": {
            "text/plain": [
              "  file_id     video_id    channel      date  \\\n",
              "0    fr_1  w5rwVHtOjR0  QUB Radio  20240516   \n",
              "1    fr_2  Jou0jd39ZgI  QUB Radio  20240423   \n",
              "2    fr_3  ovJyh68t5sM  QUB Radio  20241205   \n",
              "3    fr_4  IAvAu4O_8Uk  QUB Radio  20240213   \n",
              "4    fr_5  3D1zs_wJdFQ  QUB Radio  20240529   \n",
              "\n",
              "                                               title  duration_seconds  views  \\\n",
              "0  Richard a plein de belles idées pour le Villag...                37   4045   \n",
              "1  Une police de l'anglais à l'école ? Benoit et ...                54   3401   \n",
              "2           La vérité sur les véhicules électriques!                44   5977   \n",
              "3  Hey le Parlement, vos états d'âmes et vos égos...                45   2796   \n",
              "4                        Dutrizac félicite le Hamas!                37   2528   \n",
              "\n",
              "   likes  comments                                          url  \n",
              "0     85       NaN  https://www.youtube.com/watch?v=w5rwVHtOjR0  \n",
              "1     49       NaN  https://www.youtube.com/watch?v=Jou0jd39ZgI  \n",
              "2    251       NaN  https://www.youtube.com/watch?v=ovJyh68t5sM  \n",
              "3     92       NaN  https://www.youtube.com/watch?v=IAvAu4O_8Uk  \n",
              "4    125       NaN  https://www.youtube.com/watch?v=3D1zs_wJdFQ  "
            ],
            "text/html": [
              "\n",
              "  <div id=\"df-6664c838-01eb-4b90-865d-23cd21cf3cc9\" class=\"colab-df-container\">\n",
              "    <div>\n",
              "<style scoped>\n",
              "    .dataframe tbody tr th:only-of-type {\n",
              "        vertical-align: middle;\n",
              "    }\n",
              "\n",
              "    .dataframe tbody tr th {\n",
              "        vertical-align: top;\n",
              "    }\n",
              "\n",
              "    .dataframe thead th {\n",
              "        text-align: right;\n",
              "    }\n",
              "</style>\n",
              "<table border=\"1\" class=\"dataframe\">\n",
              "  <thead>\n",
              "    <tr style=\"text-align: right;\">\n",
              "      <th></th>\n",
              "      <th>file_id</th>\n",
              "      <th>video_id</th>\n",
              "      <th>channel</th>\n",
              "      <th>date</th>\n",
              "      <th>title</th>\n",
              "      <th>duration_seconds</th>\n",
              "      <th>views</th>\n",
              "      <th>likes</th>\n",
              "      <th>comments</th>\n",
              "      <th>url</th>\n",
              "    </tr>\n",
              "  </thead>\n",
              "  <tbody>\n",
              "    <tr>\n",
              "      <th>0</th>\n",
              "      <td>fr_1</td>\n",
              "      <td>w5rwVHtOjR0</td>\n",
              "      <td>QUB Radio</td>\n",
              "      <td>20240516</td>\n",
              "      <td>Richard a plein de belles idées pour le Villag...</td>\n",
              "      <td>37</td>\n",
              "      <td>4045</td>\n",
              "      <td>85</td>\n",
              "      <td>NaN</td>\n",
              "      <td>https://www.youtube.com/watch?v=w5rwVHtOjR0</td>\n",
              "    </tr>\n",
              "    <tr>\n",
              "      <th>1</th>\n",
              "      <td>fr_2</td>\n",
              "      <td>Jou0jd39ZgI</td>\n",
              "      <td>QUB Radio</td>\n",
              "      <td>20240423</td>\n",
              "      <td>Une police de l'anglais à l'école ? Benoit et ...</td>\n",
              "      <td>54</td>\n",
              "      <td>3401</td>\n",
              "      <td>49</td>\n",
              "      <td>NaN</td>\n",
              "      <td>https://www.youtube.com/watch?v=Jou0jd39ZgI</td>\n",
              "    </tr>\n",
              "    <tr>\n",
              "      <th>2</th>\n",
              "      <td>fr_3</td>\n",
              "      <td>ovJyh68t5sM</td>\n",
              "      <td>QUB Radio</td>\n",
              "      <td>20241205</td>\n",
              "      <td>La vérité sur les véhicules électriques!</td>\n",
              "      <td>44</td>\n",
              "      <td>5977</td>\n",
              "      <td>251</td>\n",
              "      <td>NaN</td>\n",
              "      <td>https://www.youtube.com/watch?v=ovJyh68t5sM</td>\n",
              "    </tr>\n",
              "    <tr>\n",
              "      <th>3</th>\n",
              "      <td>fr_4</td>\n",
              "      <td>IAvAu4O_8Uk</td>\n",
              "      <td>QUB Radio</td>\n",
              "      <td>20240213</td>\n",
              "      <td>Hey le Parlement, vos états d'âmes et vos égos...</td>\n",
              "      <td>45</td>\n",
              "      <td>2796</td>\n",
              "      <td>92</td>\n",
              "      <td>NaN</td>\n",
              "      <td>https://www.youtube.com/watch?v=IAvAu4O_8Uk</td>\n",
              "    </tr>\n",
              "    <tr>\n",
              "      <th>4</th>\n",
              "      <td>fr_5</td>\n",
              "      <td>3D1zs_wJdFQ</td>\n",
              "      <td>QUB Radio</td>\n",
              "      <td>20240529</td>\n",
              "      <td>Dutrizac félicite le Hamas!</td>\n",
              "      <td>37</td>\n",
              "      <td>2528</td>\n",
              "      <td>125</td>\n",
              "      <td>NaN</td>\n",
              "      <td>https://www.youtube.com/watch?v=3D1zs_wJdFQ</td>\n",
              "    </tr>\n",
              "  </tbody>\n",
              "</table>\n",
              "</div>\n",
              "    <div class=\"colab-df-buttons\">\n",
              "\n",
              "  <div class=\"colab-df-container\">\n",
              "    <button class=\"colab-df-convert\" onclick=\"convertToInteractive('df-6664c838-01eb-4b90-865d-23cd21cf3cc9')\"\n",
              "            title=\"Convert this dataframe to an interactive table.\"\n",
              "            style=\"display:none;\">\n",
              "\n",
              "  <svg xmlns=\"http://www.w3.org/2000/svg\" height=\"24px\" viewBox=\"0 -960 960 960\">\n",
              "    <path d=\"M120-120v-720h720v720H120Zm60-500h600v-160H180v160Zm220 220h160v-160H400v160Zm0 220h160v-160H400v160ZM180-400h160v-160H180v160Zm440 0h160v-160H620v160ZM180-180h160v-160H180v160Zm440 0h160v-160H620v160Z\"/>\n",
              "  </svg>\n",
              "    </button>\n",
              "\n",
              "  <style>\n",
              "    .colab-df-container {\n",
              "      display:flex;\n",
              "      gap: 12px;\n",
              "    }\n",
              "\n",
              "    .colab-df-convert {\n",
              "      background-color: #E8F0FE;\n",
              "      border: none;\n",
              "      border-radius: 50%;\n",
              "      cursor: pointer;\n",
              "      display: none;\n",
              "      fill: #1967D2;\n",
              "      height: 32px;\n",
              "      padding: 0 0 0 0;\n",
              "      width: 32px;\n",
              "    }\n",
              "\n",
              "    .colab-df-convert:hover {\n",
              "      background-color: #E2EBFA;\n",
              "      box-shadow: 0px 1px 2px rgba(60, 64, 67, 0.3), 0px 1px 3px 1px rgba(60, 64, 67, 0.15);\n",
              "      fill: #174EA6;\n",
              "    }\n",
              "\n",
              "    .colab-df-buttons div {\n",
              "      margin-bottom: 4px;\n",
              "    }\n",
              "\n",
              "    [theme=dark] .colab-df-convert {\n",
              "      background-color: #3B4455;\n",
              "      fill: #D2E3FC;\n",
              "    }\n",
              "\n",
              "    [theme=dark] .colab-df-convert:hover {\n",
              "      background-color: #434B5C;\n",
              "      box-shadow: 0px 1px 3px 1px rgba(0, 0, 0, 0.15);\n",
              "      filter: drop-shadow(0px 1px 2px rgba(0, 0, 0, 0.3));\n",
              "      fill: #FFFFFF;\n",
              "    }\n",
              "  </style>\n",
              "\n",
              "    <script>\n",
              "      const buttonEl =\n",
              "        document.querySelector('#df-6664c838-01eb-4b90-865d-23cd21cf3cc9 button.colab-df-convert');\n",
              "      buttonEl.style.display =\n",
              "        google.colab.kernel.accessAllowed ? 'block' : 'none';\n",
              "\n",
              "      async function convertToInteractive(key) {\n",
              "        const element = document.querySelector('#df-6664c838-01eb-4b90-865d-23cd21cf3cc9');\n",
              "        const dataTable =\n",
              "          await google.colab.kernel.invokeFunction('convertToInteractive',\n",
              "                                                    [key], {});\n",
              "        if (!dataTable) return;\n",
              "\n",
              "        const docLinkHtml = 'Like what you see? Visit the ' +\n",
              "          '<a target=\"_blank\" href=https://colab.research.google.com/notebooks/data_table.ipynb>data table notebook</a>'\n",
              "          + ' to learn more about interactive tables.';\n",
              "        element.innerHTML = '';\n",
              "        dataTable['output_type'] = 'display_data';\n",
              "        await google.colab.output.renderOutput(dataTable, element);\n",
              "        const docLink = document.createElement('div');\n",
              "        docLink.innerHTML = docLinkHtml;\n",
              "        element.appendChild(docLink);\n",
              "      }\n",
              "    </script>\n",
              "  </div>\n",
              "\n",
              "\n",
              "<div id=\"df-59fd698d-1781-4534-88b7-0a43d7a03e49\">\n",
              "  <button class=\"colab-df-quickchart\" onclick=\"quickchart('df-59fd698d-1781-4534-88b7-0a43d7a03e49')\"\n",
              "            title=\"Suggest charts\"\n",
              "            style=\"display:none;\">\n",
              "\n",
              "<svg xmlns=\"http://www.w3.org/2000/svg\" height=\"24px\"viewBox=\"0 0 24 24\"\n",
              "     width=\"24px\">\n",
              "    <g>\n",
              "        <path d=\"M19 3H5c-1.1 0-2 .9-2 2v14c0 1.1.9 2 2 2h14c1.1 0 2-.9 2-2V5c0-1.1-.9-2-2-2zM9 17H7v-7h2v7zm4 0h-2V7h2v10zm4 0h-2v-4h2v4z\"/>\n",
              "    </g>\n",
              "</svg>\n",
              "  </button>\n",
              "\n",
              "<style>\n",
              "  .colab-df-quickchart {\n",
              "      --bg-color: #E8F0FE;\n",
              "      --fill-color: #1967D2;\n",
              "      --hover-bg-color: #E2EBFA;\n",
              "      --hover-fill-color: #174EA6;\n",
              "      --disabled-fill-color: #AAA;\n",
              "      --disabled-bg-color: #DDD;\n",
              "  }\n",
              "\n",
              "  [theme=dark] .colab-df-quickchart {\n",
              "      --bg-color: #3B4455;\n",
              "      --fill-color: #D2E3FC;\n",
              "      --hover-bg-color: #434B5C;\n",
              "      --hover-fill-color: #FFFFFF;\n",
              "      --disabled-bg-color: #3B4455;\n",
              "      --disabled-fill-color: #666;\n",
              "  }\n",
              "\n",
              "  .colab-df-quickchart {\n",
              "    background-color: var(--bg-color);\n",
              "    border: none;\n",
              "    border-radius: 50%;\n",
              "    cursor: pointer;\n",
              "    display: none;\n",
              "    fill: var(--fill-color);\n",
              "    height: 32px;\n",
              "    padding: 0;\n",
              "    width: 32px;\n",
              "  }\n",
              "\n",
              "  .colab-df-quickchart:hover {\n",
              "    background-color: var(--hover-bg-color);\n",
              "    box-shadow: 0 1px 2px rgba(60, 64, 67, 0.3), 0 1px 3px 1px rgba(60, 64, 67, 0.15);\n",
              "    fill: var(--button-hover-fill-color);\n",
              "  }\n",
              "\n",
              "  .colab-df-quickchart-complete:disabled,\n",
              "  .colab-df-quickchart-complete:disabled:hover {\n",
              "    background-color: var(--disabled-bg-color);\n",
              "    fill: var(--disabled-fill-color);\n",
              "    box-shadow: none;\n",
              "  }\n",
              "\n",
              "  .colab-df-spinner {\n",
              "    border: 2px solid var(--fill-color);\n",
              "    border-color: transparent;\n",
              "    border-bottom-color: var(--fill-color);\n",
              "    animation:\n",
              "      spin 1s steps(1) infinite;\n",
              "  }\n",
              "\n",
              "  @keyframes spin {\n",
              "    0% {\n",
              "      border-color: transparent;\n",
              "      border-bottom-color: var(--fill-color);\n",
              "      border-left-color: var(--fill-color);\n",
              "    }\n",
              "    20% {\n",
              "      border-color: transparent;\n",
              "      border-left-color: var(--fill-color);\n",
              "      border-top-color: var(--fill-color);\n",
              "    }\n",
              "    30% {\n",
              "      border-color: transparent;\n",
              "      border-left-color: var(--fill-color);\n",
              "      border-top-color: var(--fill-color);\n",
              "      border-right-color: var(--fill-color);\n",
              "    }\n",
              "    40% {\n",
              "      border-color: transparent;\n",
              "      border-right-color: var(--fill-color);\n",
              "      border-top-color: var(--fill-color);\n",
              "    }\n",
              "    60% {\n",
              "      border-color: transparent;\n",
              "      border-right-color: var(--fill-color);\n",
              "    }\n",
              "    80% {\n",
              "      border-color: transparent;\n",
              "      border-right-color: var(--fill-color);\n",
              "      border-bottom-color: var(--fill-color);\n",
              "    }\n",
              "    90% {\n",
              "      border-color: transparent;\n",
              "      border-bottom-color: var(--fill-color);\n",
              "    }\n",
              "  }\n",
              "</style>\n",
              "\n",
              "  <script>\n",
              "    async function quickchart(key) {\n",
              "      const quickchartButtonEl =\n",
              "        document.querySelector('#' + key + ' button');\n",
              "      quickchartButtonEl.disabled = true;  // To prevent multiple clicks.\n",
              "      quickchartButtonEl.classList.add('colab-df-spinner');\n",
              "      try {\n",
              "        const charts = await google.colab.kernel.invokeFunction(\n",
              "            'suggestCharts', [key], {});\n",
              "      } catch (error) {\n",
              "        console.error('Error during call to suggestCharts:', error);\n",
              "      }\n",
              "      quickchartButtonEl.classList.remove('colab-df-spinner');\n",
              "      quickchartButtonEl.classList.add('colab-df-quickchart-complete');\n",
              "    }\n",
              "    (() => {\n",
              "      let quickchartButtonEl =\n",
              "        document.querySelector('#df-59fd698d-1781-4534-88b7-0a43d7a03e49 button');\n",
              "      quickchartButtonEl.style.display =\n",
              "        google.colab.kernel.accessAllowed ? 'block' : 'none';\n",
              "    })();\n",
              "  </script>\n",
              "</div>\n",
              "\n",
              "    </div>\n",
              "  </div>\n"
            ],
            "application/vnd.google.colaboratory.intrinsic+json": {
              "type": "dataframe",
              "variable_name": "metadata_df",
              "summary": "{\n  \"name\": \"metadata_df\",\n  \"rows\": 22,\n  \"fields\": [\n    {\n      \"column\": \"file_id\",\n      \"properties\": {\n        \"dtype\": \"string\",\n        \"num_unique_values\": 22,\n        \"samples\": [\n          \"fr_1\",\n          \"fr_14\",\n          \"fr_9\"\n        ],\n        \"semantic_type\": \"\",\n        \"description\": \"\"\n      }\n    },\n    {\n      \"column\": \"video_id\",\n      \"properties\": {\n        \"dtype\": \"string\",\n        \"num_unique_values\": 22,\n        \"samples\": [\n          \"w5rwVHtOjR0\",\n          \"ydPX6s1WAdQ\",\n          \"C5EECY3Tm4E\"\n        ],\n        \"semantic_type\": \"\",\n        \"description\": \"\"\n      }\n    },\n    {\n      \"column\": \"channel\",\n      \"properties\": {\n        \"dtype\": \"category\",\n        \"num_unique_values\": 6,\n        \"samples\": [\n          \"QUB Radio\",\n          \"Les Colocs Podcast\",\n          \"COALITION AVENIR QU\\u00c9BEC\"\n        ],\n        \"semantic_type\": \"\",\n        \"description\": \"\"\n      }\n    },\n    {\n      \"column\": \"date\",\n      \"properties\": {\n        \"dtype\": \"object\",\n        \"num_unique_values\": 19,\n        \"samples\": [\n          \"20240516\",\n          \"20240603\",\n          \"20241118\"\n        ],\n        \"semantic_type\": \"\",\n        \"description\": \"\"\n      }\n    },\n    {\n      \"column\": \"title\",\n      \"properties\": {\n        \"dtype\": \"string\",\n        \"num_unique_values\": 22,\n        \"samples\": [\n          \"Richard a plein de belles id\\u00e9es pour le Village...\",\n          \"Radio-Canada refuse d'inviter Guy Nantel\",\n          \"Transgenres: \\u00abUn adolescent ne peut pas prendre la mesure d\\u2019un changement de genre\\u00bb\"\n        ],\n        \"semantic_type\": \"\",\n        \"description\": \"\"\n      }\n    },\n    {\n      \"column\": \"duration_seconds\",\n      \"properties\": {\n        \"dtype\": \"number\",\n        \"std\": 10,\n        \"min\": 25,\n        \"max\": 63,\n        \"num_unique_values\": 16,\n        \"samples\": [\n          37,\n          54,\n          58\n        ],\n        \"semantic_type\": \"\",\n        \"description\": \"\"\n      }\n    },\n    {\n      \"column\": \"views\",\n      \"properties\": {\n        \"dtype\": \"number\",\n        \"std\": 38168,\n        \"min\": 619,\n        \"max\": 182176,\n        \"num_unique_values\": 22,\n        \"samples\": [\n          4045,\n          182176,\n          10561\n        ],\n        \"semantic_type\": \"\",\n        \"description\": \"\"\n      }\n    },\n    {\n      \"column\": \"likes\",\n      \"properties\": {\n        \"dtype\": \"number\",\n        \"std\": 459,\n        \"min\": 10,\n        \"max\": 2212,\n        \"num_unique_values\": 22,\n        \"samples\": [\n          85,\n          2212,\n          492\n        ],\n        \"semantic_type\": \"\",\n        \"description\": \"\"\n      }\n    },\n    {\n      \"column\": \"comments\",\n      \"properties\": {\n        \"dtype\": \"number\",\n        \"std\": 90.5354442561954,\n        \"min\": 1.0,\n        \"max\": 194.0,\n        \"num_unique_values\": 4,\n        \"samples\": [\n          1.0,\n          194.0,\n          48.0\n        ],\n        \"semantic_type\": \"\",\n        \"description\": \"\"\n      }\n    },\n    {\n      \"column\": \"url\",\n      \"properties\": {\n        \"dtype\": \"string\",\n        \"num_unique_values\": 22,\n        \"samples\": [\n          \"https://www.youtube.com/watch?v=w5rwVHtOjR0\",\n          \"https://www.youtube.com/watch?v=ydPX6s1WAdQ\",\n          \"https://www.youtube.com/watch?v=C5EECY3Tm4E\"\n        ],\n        \"semantic_type\": \"\",\n        \"description\": \"\"\n      }\n    }\n  ]\n}"
            }
          },
          "metadata": {},
          "execution_count": 27
        }
      ]
    },
    {
      "cell_type": "code",
      "source": [
        "# create new annotations dataframe with the following columns\n",
        "# file_id, title, speaker_gender, speaker_age, descriptive_tags, transcript\n",
        "annotations_df = metadata_df.filter(['file_id', 'title'], axis=1)\n",
        "annotations_df['speaker_gender'] = ' '\n",
        "annotations_df['speaker_age'] = ' '\n",
        "annotations_df['descriptive_tags'] = ' '\n",
        "annotations_df['transcript'] = ' '"
      ],
      "metadata": {
        "id": "jco20QSxck6q"
      },
      "execution_count": null,
      "outputs": []
    },
    {
      "cell_type": "code",
      "source": [
        "annotations_df.head()"
      ],
      "metadata": {
        "id": "upwvAddffR79",
        "colab": {
          "base_uri": "https://localhost:8080/",
          "height": 206
        },
        "outputId": "2872ed6c-3cde-438a-953b-d1121c3ef008"
      },
      "execution_count": null,
      "outputs": [
        {
          "output_type": "execute_result",
          "data": {
            "text/plain": [
              "  file_id                                              title speaker_gender  \\\n",
              "0    fr_1  Richard a plein de belles idées pour le Villag...                  \n",
              "1    fr_2  Une police de l'anglais à l'école ? Benoit et ...                  \n",
              "2    fr_3           La vérité sur les véhicules électriques!                  \n",
              "3    fr_4  Hey le Parlement, vos états d'âmes et vos égos...                  \n",
              "4    fr_5                        Dutrizac félicite le Hamas!                  \n",
              "\n",
              "  speaker_age descriptive_tags transcript  \n",
              "0                                          \n",
              "1                                          \n",
              "2                                          \n",
              "3                                          \n",
              "4                                          "
            ],
            "text/html": [
              "\n",
              "  <div id=\"df-7bcd94a3-622d-480d-a884-41fdfc1727a3\" class=\"colab-df-container\">\n",
              "    <div>\n",
              "<style scoped>\n",
              "    .dataframe tbody tr th:only-of-type {\n",
              "        vertical-align: middle;\n",
              "    }\n",
              "\n",
              "    .dataframe tbody tr th {\n",
              "        vertical-align: top;\n",
              "    }\n",
              "\n",
              "    .dataframe thead th {\n",
              "        text-align: right;\n",
              "    }\n",
              "</style>\n",
              "<table border=\"1\" class=\"dataframe\">\n",
              "  <thead>\n",
              "    <tr style=\"text-align: right;\">\n",
              "      <th></th>\n",
              "      <th>file_id</th>\n",
              "      <th>title</th>\n",
              "      <th>speaker_gender</th>\n",
              "      <th>speaker_age</th>\n",
              "      <th>descriptive_tags</th>\n",
              "      <th>transcript</th>\n",
              "    </tr>\n",
              "  </thead>\n",
              "  <tbody>\n",
              "    <tr>\n",
              "      <th>0</th>\n",
              "      <td>fr_1</td>\n",
              "      <td>Richard a plein de belles idées pour le Villag...</td>\n",
              "      <td></td>\n",
              "      <td></td>\n",
              "      <td></td>\n",
              "      <td></td>\n",
              "    </tr>\n",
              "    <tr>\n",
              "      <th>1</th>\n",
              "      <td>fr_2</td>\n",
              "      <td>Une police de l'anglais à l'école ? Benoit et ...</td>\n",
              "      <td></td>\n",
              "      <td></td>\n",
              "      <td></td>\n",
              "      <td></td>\n",
              "    </tr>\n",
              "    <tr>\n",
              "      <th>2</th>\n",
              "      <td>fr_3</td>\n",
              "      <td>La vérité sur les véhicules électriques!</td>\n",
              "      <td></td>\n",
              "      <td></td>\n",
              "      <td></td>\n",
              "      <td></td>\n",
              "    </tr>\n",
              "    <tr>\n",
              "      <th>3</th>\n",
              "      <td>fr_4</td>\n",
              "      <td>Hey le Parlement, vos états d'âmes et vos égos...</td>\n",
              "      <td></td>\n",
              "      <td></td>\n",
              "      <td></td>\n",
              "      <td></td>\n",
              "    </tr>\n",
              "    <tr>\n",
              "      <th>4</th>\n",
              "      <td>fr_5</td>\n",
              "      <td>Dutrizac félicite le Hamas!</td>\n",
              "      <td></td>\n",
              "      <td></td>\n",
              "      <td></td>\n",
              "      <td></td>\n",
              "    </tr>\n",
              "  </tbody>\n",
              "</table>\n",
              "</div>\n",
              "    <div class=\"colab-df-buttons\">\n",
              "\n",
              "  <div class=\"colab-df-container\">\n",
              "    <button class=\"colab-df-convert\" onclick=\"convertToInteractive('df-7bcd94a3-622d-480d-a884-41fdfc1727a3')\"\n",
              "            title=\"Convert this dataframe to an interactive table.\"\n",
              "            style=\"display:none;\">\n",
              "\n",
              "  <svg xmlns=\"http://www.w3.org/2000/svg\" height=\"24px\" viewBox=\"0 -960 960 960\">\n",
              "    <path d=\"M120-120v-720h720v720H120Zm60-500h600v-160H180v160Zm220 220h160v-160H400v160Zm0 220h160v-160H400v160ZM180-400h160v-160H180v160Zm440 0h160v-160H620v160ZM180-180h160v-160H180v160Zm440 0h160v-160H620v160Z\"/>\n",
              "  </svg>\n",
              "    </button>\n",
              "\n",
              "  <style>\n",
              "    .colab-df-container {\n",
              "      display:flex;\n",
              "      gap: 12px;\n",
              "    }\n",
              "\n",
              "    .colab-df-convert {\n",
              "      background-color: #E8F0FE;\n",
              "      border: none;\n",
              "      border-radius: 50%;\n",
              "      cursor: pointer;\n",
              "      display: none;\n",
              "      fill: #1967D2;\n",
              "      height: 32px;\n",
              "      padding: 0 0 0 0;\n",
              "      width: 32px;\n",
              "    }\n",
              "\n",
              "    .colab-df-convert:hover {\n",
              "      background-color: #E2EBFA;\n",
              "      box-shadow: 0px 1px 2px rgba(60, 64, 67, 0.3), 0px 1px 3px 1px rgba(60, 64, 67, 0.15);\n",
              "      fill: #174EA6;\n",
              "    }\n",
              "\n",
              "    .colab-df-buttons div {\n",
              "      margin-bottom: 4px;\n",
              "    }\n",
              "\n",
              "    [theme=dark] .colab-df-convert {\n",
              "      background-color: #3B4455;\n",
              "      fill: #D2E3FC;\n",
              "    }\n",
              "\n",
              "    [theme=dark] .colab-df-convert:hover {\n",
              "      background-color: #434B5C;\n",
              "      box-shadow: 0px 1px 3px 1px rgba(0, 0, 0, 0.15);\n",
              "      filter: drop-shadow(0px 1px 2px rgba(0, 0, 0, 0.3));\n",
              "      fill: #FFFFFF;\n",
              "    }\n",
              "  </style>\n",
              "\n",
              "    <script>\n",
              "      const buttonEl =\n",
              "        document.querySelector('#df-7bcd94a3-622d-480d-a884-41fdfc1727a3 button.colab-df-convert');\n",
              "      buttonEl.style.display =\n",
              "        google.colab.kernel.accessAllowed ? 'block' : 'none';\n",
              "\n",
              "      async function convertToInteractive(key) {\n",
              "        const element = document.querySelector('#df-7bcd94a3-622d-480d-a884-41fdfc1727a3');\n",
              "        const dataTable =\n",
              "          await google.colab.kernel.invokeFunction('convertToInteractive',\n",
              "                                                    [key], {});\n",
              "        if (!dataTable) return;\n",
              "\n",
              "        const docLinkHtml = 'Like what you see? Visit the ' +\n",
              "          '<a target=\"_blank\" href=https://colab.research.google.com/notebooks/data_table.ipynb>data table notebook</a>'\n",
              "          + ' to learn more about interactive tables.';\n",
              "        element.innerHTML = '';\n",
              "        dataTable['output_type'] = 'display_data';\n",
              "        await google.colab.output.renderOutput(dataTable, element);\n",
              "        const docLink = document.createElement('div');\n",
              "        docLink.innerHTML = docLinkHtml;\n",
              "        element.appendChild(docLink);\n",
              "      }\n",
              "    </script>\n",
              "  </div>\n",
              "\n",
              "\n",
              "<div id=\"df-7ee88d68-5d3a-4cb1-8a58-111ef51e0086\">\n",
              "  <button class=\"colab-df-quickchart\" onclick=\"quickchart('df-7ee88d68-5d3a-4cb1-8a58-111ef51e0086')\"\n",
              "            title=\"Suggest charts\"\n",
              "            style=\"display:none;\">\n",
              "\n",
              "<svg xmlns=\"http://www.w3.org/2000/svg\" height=\"24px\"viewBox=\"0 0 24 24\"\n",
              "     width=\"24px\">\n",
              "    <g>\n",
              "        <path d=\"M19 3H5c-1.1 0-2 .9-2 2v14c0 1.1.9 2 2 2h14c1.1 0 2-.9 2-2V5c0-1.1-.9-2-2-2zM9 17H7v-7h2v7zm4 0h-2V7h2v10zm4 0h-2v-4h2v4z\"/>\n",
              "    </g>\n",
              "</svg>\n",
              "  </button>\n",
              "\n",
              "<style>\n",
              "  .colab-df-quickchart {\n",
              "      --bg-color: #E8F0FE;\n",
              "      --fill-color: #1967D2;\n",
              "      --hover-bg-color: #E2EBFA;\n",
              "      --hover-fill-color: #174EA6;\n",
              "      --disabled-fill-color: #AAA;\n",
              "      --disabled-bg-color: #DDD;\n",
              "  }\n",
              "\n",
              "  [theme=dark] .colab-df-quickchart {\n",
              "      --bg-color: #3B4455;\n",
              "      --fill-color: #D2E3FC;\n",
              "      --hover-bg-color: #434B5C;\n",
              "      --hover-fill-color: #FFFFFF;\n",
              "      --disabled-bg-color: #3B4455;\n",
              "      --disabled-fill-color: #666;\n",
              "  }\n",
              "\n",
              "  .colab-df-quickchart {\n",
              "    background-color: var(--bg-color);\n",
              "    border: none;\n",
              "    border-radius: 50%;\n",
              "    cursor: pointer;\n",
              "    display: none;\n",
              "    fill: var(--fill-color);\n",
              "    height: 32px;\n",
              "    padding: 0;\n",
              "    width: 32px;\n",
              "  }\n",
              "\n",
              "  .colab-df-quickchart:hover {\n",
              "    background-color: var(--hover-bg-color);\n",
              "    box-shadow: 0 1px 2px rgba(60, 64, 67, 0.3), 0 1px 3px 1px rgba(60, 64, 67, 0.15);\n",
              "    fill: var(--button-hover-fill-color);\n",
              "  }\n",
              "\n",
              "  .colab-df-quickchart-complete:disabled,\n",
              "  .colab-df-quickchart-complete:disabled:hover {\n",
              "    background-color: var(--disabled-bg-color);\n",
              "    fill: var(--disabled-fill-color);\n",
              "    box-shadow: none;\n",
              "  }\n",
              "\n",
              "  .colab-df-spinner {\n",
              "    border: 2px solid var(--fill-color);\n",
              "    border-color: transparent;\n",
              "    border-bottom-color: var(--fill-color);\n",
              "    animation:\n",
              "      spin 1s steps(1) infinite;\n",
              "  }\n",
              "\n",
              "  @keyframes spin {\n",
              "    0% {\n",
              "      border-color: transparent;\n",
              "      border-bottom-color: var(--fill-color);\n",
              "      border-left-color: var(--fill-color);\n",
              "    }\n",
              "    20% {\n",
              "      border-color: transparent;\n",
              "      border-left-color: var(--fill-color);\n",
              "      border-top-color: var(--fill-color);\n",
              "    }\n",
              "    30% {\n",
              "      border-color: transparent;\n",
              "      border-left-color: var(--fill-color);\n",
              "      border-top-color: var(--fill-color);\n",
              "      border-right-color: var(--fill-color);\n",
              "    }\n",
              "    40% {\n",
              "      border-color: transparent;\n",
              "      border-right-color: var(--fill-color);\n",
              "      border-top-color: var(--fill-color);\n",
              "    }\n",
              "    60% {\n",
              "      border-color: transparent;\n",
              "      border-right-color: var(--fill-color);\n",
              "    }\n",
              "    80% {\n",
              "      border-color: transparent;\n",
              "      border-right-color: var(--fill-color);\n",
              "      border-bottom-color: var(--fill-color);\n",
              "    }\n",
              "    90% {\n",
              "      border-color: transparent;\n",
              "      border-bottom-color: var(--fill-color);\n",
              "    }\n",
              "  }\n",
              "</style>\n",
              "\n",
              "  <script>\n",
              "    async function quickchart(key) {\n",
              "      const quickchartButtonEl =\n",
              "        document.querySelector('#' + key + ' button');\n",
              "      quickchartButtonEl.disabled = true;  // To prevent multiple clicks.\n",
              "      quickchartButtonEl.classList.add('colab-df-spinner');\n",
              "      try {\n",
              "        const charts = await google.colab.kernel.invokeFunction(\n",
              "            'suggestCharts', [key], {});\n",
              "      } catch (error) {\n",
              "        console.error('Error during call to suggestCharts:', error);\n",
              "      }\n",
              "      quickchartButtonEl.classList.remove('colab-df-spinner');\n",
              "      quickchartButtonEl.classList.add('colab-df-quickchart-complete');\n",
              "    }\n",
              "    (() => {\n",
              "      let quickchartButtonEl =\n",
              "        document.querySelector('#df-7ee88d68-5d3a-4cb1-8a58-111ef51e0086 button');\n",
              "      quickchartButtonEl.style.display =\n",
              "        google.colab.kernel.accessAllowed ? 'block' : 'none';\n",
              "    })();\n",
              "  </script>\n",
              "</div>\n",
              "\n",
              "    </div>\n",
              "  </div>\n"
            ],
            "application/vnd.google.colaboratory.intrinsic+json": {
              "type": "dataframe",
              "variable_name": "annotations_df",
              "summary": "{\n  \"name\": \"annotations_df\",\n  \"rows\": 22,\n  \"fields\": [\n    {\n      \"column\": \"file_id\",\n      \"properties\": {\n        \"dtype\": \"string\",\n        \"num_unique_values\": 22,\n        \"samples\": [\n          \"fr_1\",\n          \"fr_14\",\n          \"fr_9\"\n        ],\n        \"semantic_type\": \"\",\n        \"description\": \"\"\n      }\n    },\n    {\n      \"column\": \"title\",\n      \"properties\": {\n        \"dtype\": \"string\",\n        \"num_unique_values\": 22,\n        \"samples\": [\n          \"Richard a plein de belles id\\u00e9es pour le Village...\",\n          \"Radio-Canada refuse d'inviter Guy Nantel\",\n          \"Transgenres: \\u00abUn adolescent ne peut pas prendre la mesure d\\u2019un changement de genre\\u00bb\"\n        ],\n        \"semantic_type\": \"\",\n        \"description\": \"\"\n      }\n    },\n    {\n      \"column\": \"speaker_gender\",\n      \"properties\": {\n        \"dtype\": \"category\",\n        \"num_unique_values\": 1,\n        \"samples\": [\n          \" \"\n        ],\n        \"semantic_type\": \"\",\n        \"description\": \"\"\n      }\n    },\n    {\n      \"column\": \"speaker_age\",\n      \"properties\": {\n        \"dtype\": \"category\",\n        \"num_unique_values\": 1,\n        \"samples\": [\n          \" \"\n        ],\n        \"semantic_type\": \"\",\n        \"description\": \"\"\n      }\n    },\n    {\n      \"column\": \"descriptive_tags\",\n      \"properties\": {\n        \"dtype\": \"category\",\n        \"num_unique_values\": 1,\n        \"samples\": [\n          \" \"\n        ],\n        \"semantic_type\": \"\",\n        \"description\": \"\"\n      }\n    },\n    {\n      \"column\": \"transcript\",\n      \"properties\": {\n        \"dtype\": \"category\",\n        \"num_unique_values\": 1,\n        \"samples\": [\n          \" \"\n        ],\n        \"semantic_type\": \"\",\n        \"description\": \"\"\n      }\n    }\n  ]\n}"
            }
          },
          "metadata": {},
          "execution_count": 29
        }
      ]
    },
    {
      "cell_type": "markdown",
      "source": [
        "Here we specify the output filepath for the metadata spreadsheet."
      ],
      "metadata": {
        "id": "U2GUALjoyX79"
      }
    },
    {
      "cell_type": "code",
      "source": [
        "# file path for metadata - output excel sheet path\n",
        "output = '/content/drive/My Drive/kickstarter_seed_project/fr_metadata.xlsx'"
      ],
      "metadata": {
        "id": "7nGtM2J8fn7h"
      },
      "execution_count": null,
      "outputs": []
    },
    {
      "cell_type": "markdown",
      "source": [
        "### Note!!!\n",
        "The next three cell blocks were written to accommodate datasets over 100 videos that we want to keep in the same metadata sheet. Run this after extracting the additional videos, NOT when the first playlist is extracted."
      ],
      "metadata": {
        "id": "c7E9807Myb_d"
      }
    },
    {
      "cell_type": "code",
      "source": [
        "# this section for reading in the existing sheet to append the second half of the playlist\n",
        "# since we can only download 100 videos at once\n",
        "meta_df = pd.read_excel(output, sheet_name=\"metadata\")\n",
        "anno_df = pd.read_excel(output, sheet_name=\"annotations\")\n",
        "\n",
        "merge_meta_df = pd.concat([meta_df, metadata_df], ignore_index=True)\n",
        "merge_anno_df = pd.concat([anno_df, annotations_df], ignore_index=True)"
      ],
      "metadata": {
        "id": "tmA2bpHKpxV4"
      },
      "execution_count": null,
      "outputs": []
    },
    {
      "cell_type": "code",
      "source": [
        "merge_meta_df"
      ],
      "metadata": {
        "id": "tRhT7Ei6qJi1"
      },
      "execution_count": null,
      "outputs": []
    },
    {
      "cell_type": "code",
      "source": [
        "merge_anno_df"
      ],
      "metadata": {
        "id": "3sGgCysiqK9b"
      },
      "execution_count": null,
      "outputs": []
    },
    {
      "cell_type": "markdown",
      "source": [
        "If there is only one playlist, or we are extracting the first playlist, run this block instead of the previous three."
      ],
      "metadata": {
        "id": "z-_cI8n8y1Xt"
      }
    },
    {
      "cell_type": "code",
      "source": [
        "# if the playlist is less than 100 videos, run this block instead\n",
        "merge_meta_df = metadata_df\n",
        "merge_anno_df = annotations_df"
      ],
      "metadata": {
        "id": "qTjEQynVvKtt"
      },
      "execution_count": null,
      "outputs": []
    },
    {
      "cell_type": "code",
      "source": [
        "# create excel writer object to initialize new workbook\n",
        "writer = pd.ExcelWriter(output, engine=\"xlsxwriter\")\n",
        "\n",
        "# write dataframes to different worksheets\n",
        "merge_meta_df.to_excel(writer, sheet_name=\"metadata\", index=False)\n",
        "merge_anno_df.to_excel(writer, sheet_name=\"annotations\", index=False)\n",
        "\n",
        "# close the excel writer and output file\n",
        "writer.close()"
      ],
      "metadata": {
        "id": "ZN46LNzaJMVd"
      },
      "execution_count": null,
      "outputs": []
    },
    {
      "cell_type": "markdown",
      "source": [
        "## Convert downloaded videos from mp4 to mp3"
      ],
      "metadata": {
        "id": "b3-UqekuTtYw"
      }
    },
    {
      "cell_type": "code",
      "source": [
        "!pip install moviepy"
      ],
      "metadata": {
        "id": "9kA36MwiTybA"
      },
      "execution_count": null,
      "outputs": []
    },
    {
      "cell_type": "code",
      "source": [
        "from moviepy.editor import VideoFileClip"
      ],
      "metadata": {
        "id": "B5ZueBg6wV44"
      },
      "execution_count": null,
      "outputs": []
    },
    {
      "cell_type": "markdown",
      "source": [
        "Here we define the video and audio folders for storing our files. Make these folders before running the rest of this code. If you are in Google Colab, refresh the notebook after creating the folders to catch the latest changes."
      ],
      "metadata": {
        "id": "JMOqosQQy-1l"
      }
    },
    {
      "cell_type": "code",
      "source": [
        "# define folders where audio and video files are stored\n",
        "video_folder = '/content/drive/My Drive/kickstarter_seed_project/fr_video'\n",
        "audio_folder = '/content/drive/My Drive/kickstarter_seed_project/fr_audio'"
      ],
      "metadata": {
        "id": "OnVu7MG8ha4n"
      },
      "execution_count": null,
      "outputs": []
    },
    {
      "cell_type": "markdown",
      "source": [
        "Side note: The first two parts of this notebook (extracting and converting) are meant to be run in the same session. If returning to this notebook, run the code below to read the metadata file back as a dataframe."
      ],
      "metadata": {
        "id": "mOmY2Twd0Mds"
      }
    },
    {
      "cell_type": "code",
      "source": [
        "# only run this if you are converting the videos in a different session than you extracted\n",
        "meta_fp = 'content/drive/My Drive/kickstarter_seed_project/en_metadata.xlsx'\n",
        "\n",
        "metadata_df = pd.read_excel(meta_fp, sheet_name=\"metadata\")"
      ],
      "metadata": {
        "id": "oAjVzqjC0mJ9"
      },
      "execution_count": null,
      "outputs": []
    },
    {
      "cell_type": "markdown",
      "source": [
        "### Note!!\n",
        "When running this section, make sure that only the videos we are renaming (and thus, extracting/converting) are in the folders defined above. If we have previously extracted other videos, move those to a subfolder or a different folder to prevent this code from breaking. If the folders only contain the videos to be renamed and it throws an error, check to see if videos were partially renamed and revert them back to their previous name (with ID instead of our established file convention).\n",
        "\n",
        "TLDR: This code works if and only if all videos in `video_folder` have yet to be renamed and converted. You may have to refresh the notebook a few times to get it to work if it is still throwing indexing errors."
      ],
      "metadata": {
        "id": "ZYzHOq4uzGlE"
      }
    },
    {
      "cell_type": "code",
      "source": [
        "for f in os.scandir(video_folder):\n",
        "  if f.is_file():\n",
        "    # first we rename the mp4 files using the file_id convention\n",
        "    # instead of the default download id\n",
        "    filename = os.path.basename(f)\n",
        "    video_id = re.sub(r'.mp4', '', filename)\n",
        "    file_id = metadata_df.loc[metadata_df['video_id'] == video_id, 'file_id'].iloc[0]\n",
        "    new_fp = os.path.join(video_folder, file_id + \".mp4\")\n",
        "    os.rename(f, new_fp)\n",
        "\n",
        "    # then we define the file names for the mp3 files\n",
        "    mp3_file = file_id + \".mp3\"\n",
        "    mp3_output = os.path.join(audio_folder, mp3_file)\n",
        "\n",
        "    # load the video file\n",
        "    video = VideoFileClip(new_fp)\n",
        "\n",
        "    # extract and save the audio file\n",
        "    video.audio.write_audiofile(mp3_output)"
      ],
      "metadata": {
        "id": "8ZI8g2_dTzs4"
      },
      "execution_count": null,
      "outputs": []
    },
    {
      "cell_type": "markdown",
      "source": [
        "## Extracting transcript from excel sheet to individual txt files\n",
        "Future-proofing this project in case we need to extract transcripts to individual files. As before, `fp` defines the file path of the metadata file, and `ts_output` defines the output folder to hold all the transcript txts. If we're directly creating the transcripts as individual txt files, this section can be ignored."
      ],
      "metadata": {
        "id": "veCWn2obiea9"
      }
    },
    {
      "cell_type": "code",
      "source": [
        "# file path of annotations/metadata file\n",
        "fp = '/content/drive/My Drive/kickstarter_seed_project/en_metadata.xlsx'"
      ],
      "metadata": {
        "id": "pfFQMxcDi0G8"
      },
      "execution_count": null,
      "outputs": []
    },
    {
      "cell_type": "code",
      "source": [
        "# get relevant columns from annotations sheet\n",
        "transcripts_df = pd.read_excel(fp, sheet_name=\"annotations\", usecols=['file_id', 'transcript'])"
      ],
      "metadata": {
        "id": "4D-qIgCpjLVX"
      },
      "execution_count": null,
      "outputs": []
    },
    {
      "cell_type": "code",
      "source": [
        "transcripts_df.head()"
      ],
      "metadata": {
        "id": "yCQwzuddjhO0"
      },
      "execution_count": null,
      "outputs": []
    },
    {
      "cell_type": "code",
      "source": [
        "# output folder for individual txt files\n",
        "ts_output = '/content/drive/My Drive/kickstarter_seed_project/transcripts'"
      ],
      "metadata": {
        "id": "R2C_DQXsjl7o"
      },
      "execution_count": null,
      "outputs": []
    },
    {
      "cell_type": "code",
      "source": [
        "for index, row in transcripts_df.iterrows():\n",
        "  filename = row['file_id'] + '.txt'\n",
        "  filepath = os.path.join(ts_output, filename)\n",
        "\n",
        "  with open(filename, 'w', encoding='utf-8') as txt_file:\n",
        "      txt_file.write(row['transcript'])"
      ],
      "metadata": {
        "id": "WgxH5-VAkG7V"
      },
      "execution_count": null,
      "outputs": []
    }
  ]
}